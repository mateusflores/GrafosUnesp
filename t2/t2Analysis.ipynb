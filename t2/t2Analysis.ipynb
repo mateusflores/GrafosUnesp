{
 "cells": [
  {
   "cell_type": "code",
   "execution_count": null,
   "metadata": {},
   "outputs": [],
   "source": [
    "import random\n",
    "import subprocess\n",
    "import pandas as pd\n",
    "import matplotlib.pyplot as plt\n",
    "import numpy as np"
   ]
  },
  {
   "cell_type": "code",
   "execution_count": null,
   "metadata": {},
   "outputs": [],
   "source": [
    "probabilities = np.logspace(-2, -0.046, num=10)\n",
    "neighbors = [4, 20, 50]\n",
    "graph_types = [\"er\", \"ws\"]"
   ]
  },
  {
   "cell_type": "code",
   "execution_count": null,
   "metadata": {},
   "outputs": [],
   "source": [
    "er_graphs = []\n",
    "ws_graphs01 = []\n",
    "ws_graphs02 = []\n",
    "ws_graphs03 = []"
   ]
  },
  {
   "cell_type": "code",
   "execution_count": null,
   "metadata": {},
   "outputs": [],
   "source": [
    "def compute_results(prob, nodes, graph_type, neighbor):\n",
    "  file = open(\"output.txt\", \"r\")\n",
    "  for lines in file:\n",
    "    results = lines.split(\" \")\n",
    "    inf_lim = int(results[0])\n",
    "    sup_lim = int(results[1].removesuffix(\"\\n\"))\n",
    "\n",
    "    if (graph_type == graph_types[0]):\n",
    "      er_graphs.append({prob: [nodes, inf_lim, sup_lim]})\n",
    "    elif (neighbor == neighbors[0]):\n",
    "      ws_graphs01.append({prob: [nodes, inf_lim, sup_lim]})\n",
    "    elif (neighbor == neighbors[1]):\n",
    "      ws_graphs02.append({prob: [nodes, inf_lim, sup_lim]})\n",
    "    else:\n",
    "      ws_graphs03.append({prob: [nodes, inf_lim, sup_lim]})"
   ]
  },
  {
   "cell_type": "code",
   "execution_count": null,
   "metadata": {},
   "outputs": [],
   "source": [
    "for prob in probabilities:\n",
    "    for i in range(10):\n",
    "        nodes = random.randint(900, 1100)\n",
    "        for graph_type in graph_types:\n",
    "            if graph_type == graph_types[0]:\n",
    "                subprocess.run([\"./main\", f\"{prob}\", f\"{nodes}\", f\"{graph_type}\"])\n",
    "                compute_results(prob, nodes, graph_type, -1)\n",
    "            if graph_type == graph_types[1]:\n",
    "                for neighbor in neighbors:\n",
    "                    subprocess.run([\"./main\", f\"{prob}\", f\"{nodes}\", f\"{graph_type}\", f\"{neighbor}\"])\n",
    "                    compute_results(prob, nodes, graph_type, neighbor)"
   ]
  },
  {
   "cell_type": "code",
   "execution_count": null,
   "metadata": {},
   "outputs": [],
   "source": [
    "def list_to_dataframe(list, index):\n",
    "    data = []\n",
    "    for item in list:\n",
    "        for key, values in item.items():\n",
    "            data.append([key, values[index]])\n",
    "    return pd.DataFrame(data, columns=['Key', 'Value'])"
   ]
  },
  {
   "cell_type": "code",
   "execution_count": null,
   "metadata": {},
   "outputs": [],
   "source": [
    "def make_table(first_data_dict, second_data_dict, third_data_dict, fourth_data_dict):\n",
    "    df = pd.DataFrame({\n",
    "        'Probabilities': probabilities,\n",
    "        'Erdos-Renyi': [first_data_dict.get(key, 0) for key in probabilities],\n",
    "        'Watts-Strogatz K=4': [second_data_dict.get(key, 0) for key in probabilities],\n",
    "        'Watts-Strogatz K=20': [third_data_dict.get(key, 0) for key in probabilities],\n",
    "        'Watts-Strogatz K=50': [fourth_data_dict.get(key, 0) for key in probabilities]\n",
    "    })\n",
    "\n",
    "    df = df.round(2)\n",
    "\n",
    "    return df"
   ]
  },
  {
   "cell_type": "code",
   "execution_count": null,
   "metadata": {},
   "outputs": [],
   "source": [
    "def plot(fisrt_data_dict, second_data_dict, third_data_dict, fourth_data_dict, y_label):\n",
    "    er_data = [fisrt_data_dict.get(key, 0) for key in probabilities]\n",
    "    ws_data01 = [second_data_dict.get(key, 0) for key in probabilities]\n",
    "    ws_data02 = [third_data_dict.get(key, 0) for key in probabilities]\n",
    "    ws_data03 = [fourth_data_dict.get(key, 0) for key in probabilities]\n",
    "\n",
    "    x = np.arange(len(probabilities))\n",
    "\n",
    "    plt.plot(x, er_data, label=f\"Erdos-Renyi\")\n",
    "    plt.plot(x, ws_data01, label=f\"Watts-Strogatz K = 4\")\n",
    "    plt.plot(x, ws_data02, label=f\"Watts-Strogatz K = 20\")\n",
    "    plt.plot(x, ws_data03, label=f\"Watts-Strogatz K = 50\")\n",
    "\n",
    "    plt.xlabel(f\"Probabilidades\")\n",
    "    plt.ylabel(f\"{y_label}\")\n",
    "    plt.title(f\"Erdos-Renyi X Watts-Strogatz\")\n",
    "\n",
    "    formatted_probabilities = [f\"{prob:.2f}\" for prob in probabilities]\n",
    "    plt.xticks(x, formatted_probabilities)\n",
    "\n",
    "    \n",
    "    plt.legend()\n",
    "\n",
    "    plt.show()"
   ]
  },
  {
   "cell_type": "code",
   "execution_count": null,
   "metadata": {},
   "outputs": [],
   "source": [
    "inf_lim_er = list_to_dataframe(er_graphs, 1)\n",
    "inf_lim_ws01 = list_to_dataframe(ws_graphs01, 1)\n",
    "inf_lim_ws02 = list_to_dataframe(ws_graphs02, 1)\n",
    "inf_lim_ws03 = list_to_dataframe(ws_graphs03, 1)\n",
    "\n",
    "sup_lim_er = list_to_dataframe(er_graphs, 2)\n",
    "sup_lim_ws01 = list_to_dataframe(ws_graphs01, 2)\n",
    "sup_lim_ws02 = list_to_dataframe(ws_graphs02, 2)\n",
    "sup_lim_ws03 = list_to_dataframe(ws_graphs03, 2)"
   ]
  },
  {
   "cell_type": "code",
   "execution_count": null,
   "metadata": {},
   "outputs": [],
   "source": [
    "mean_of_inf_lim_er = inf_lim_er.groupby('Key')['Value'].mean()\n",
    "mean_of_inf_lim_ws01 = inf_lim_ws01.groupby('Key')['Value'].mean()\n",
    "mean_of_inf_lim_ws02 = inf_lim_ws02.groupby('Key')['Value'].mean()\n",
    "mean_of_inf_lim_ws03 = inf_lim_ws03.groupby('Key')['Value'].mean()\n",
    "\n",
    "df = make_table(mean_of_inf_lim_er, mean_of_inf_lim_ws01, mean_of_inf_lim_ws02, mean_of_inf_lim_ws03)\n",
    "df.to_csv('limites_inferiores.csv', index=False)\n",
    "\n",
    "plot(mean_of_inf_lim_er, mean_of_inf_lim_ws01, mean_of_inf_lim_ws02, mean_of_inf_lim_ws03, 'Média dos limites inferiores cromáticos')"
   ]
  },
  {
   "cell_type": "markdown",
   "metadata": {},
   "source": [
    "No Gráfico 1, a primeira característica que se pode perceber ao analisar esse gráfico é o crescimento exponencial do limite inferior do número cromático para os grafos de Erdos-Renyi. Isso ocorre pois com o aumento do valor da probabilidade surgem mais cliques de grande tamanho, o que aumenta o número de cores necessárias para garantir que os vértices tenham todos cores diferentes. Já para os grafos de Watts-Strogatz percebe-se inicialmente que, quanto maior o valor do número inicial de vizinhos K, maior é o limite inferior do número cromático. Isso ocorre porque um valor maior de K implica que cada vértice é inicialmente conectado a mais vizinhos, resultando em um grafo mais denso. Essa densidade exige um maior número de cores para garantir que vértices adjacentes não compartilhem a mesma cor. Além disso, também é possível notar que o limite inferior diminui à medida que a probabilidade aumenta nos grafos de Watts-Strogatz, um efeito praticamente inverso ao que acontece nos grafos de Erdos-Renyi. Essa redução no limite inferior ocorre porque o aumento da probabilidade leva o grafo de uma estrutura mais regular e clusterizada para uma configuração mais aleatória."
   ]
  },
  {
   "cell_type": "code",
   "execution_count": null,
   "metadata": {},
   "outputs": [],
   "source": [
    "stddev_of_inf_lim_er = inf_lim_er.groupby('Key')['Value'].std()\n",
    "stddev_of_inf_lim_ws01 = inf_lim_ws01.groupby('Key')['Value'].std()\n",
    "stddev_of_inf_lim_ws02 = inf_lim_ws02.groupby('Key')['Value'].std()\n",
    "stddev_of_inf_lim_ws03 = inf_lim_ws03.groupby('Key')['Value'].std()\n",
    "\n",
    "plot(stddev_of_inf_lim_er, stddev_of_inf_lim_ws01, stddev_of_inf_lim_ws02, stddev_of_inf_lim_ws03, 'Desvio padrão dos limites inferiores cromáticos')"
   ]
  },
  {
   "cell_type": "markdown",
   "metadata": {},
   "source": [
    "No Gráfico 2 é difícil reconhecer algum padrão, já que as linhas geradas não apresentam nenhum comportamento constante perceptível. Entretanto, é possível notar que, para a maioria das probabilidades, o desvio padrão é maior quanto mais alto o número inicial de vizinhos K nos grafos de Watts-Strogatz. Em geral os valores de desvio padrão se mantiveram baixos para os dois modelos."
   ]
  },
  {
   "cell_type": "code",
   "execution_count": null,
   "metadata": {},
   "outputs": [],
   "source": [
    "mean_of_sup_lim_er = sup_lim_er.groupby('Key')['Value'].mean()\n",
    "mean_of_sup_lim_ws01 = sup_lim_ws01.groupby('Key')['Value'].mean()\n",
    "mean_of_sup_lim_ws02 = sup_lim_ws02.groupby('Key')['Value'].mean()\n",
    "mean_of_sup_lim_ws03 = sup_lim_ws03.groupby('Key')['Value'].mean()\n",
    "\n",
    "df = make_table(mean_of_sup_lim_er, mean_of_sup_lim_ws01, mean_of_sup_lim_ws02, mean_of_sup_lim_ws03)\n",
    "df.to_csv('limites_superiores.csv', index=False)\n",
    "\n",
    "plot(mean_of_sup_lim_er, mean_of_sup_lim_ws01, mean_of_sup_lim_ws02, mean_of_sup_lim_ws03, 'Média dos limites superiores cromáticos')"
   ]
  },
  {
   "cell_type": "markdown",
   "metadata": {},
   "source": [
    "Ao analisar o Gráfico 3, a primeira característica que se pode notar é, assim como ocorreu com o limite inferior, o limite superior nos grafos de Erdos-Renyi cresce de forma exponencial à medida que o valor da probabilidade aumenta, podendo alcançar valores pŕoximos ao número N de vértices do grafo quando a probabilidade se aproxima de 1. Isso ocorre porque, à medida que a probabilidade cresce, o grafo se torna cada vez mais denso, com mais arestas entre os vértices, se aproximando cada vez mais de um grafo completo. Já em relação aos grafos de Watts-Strogatz, nota-se que, assim como no gráfico dos limites inferiores, o limite superior do número cromático é maior quanto mais alto o valor do número inicial de vizinhos K, o que está diretamente relacionado à densidade de conexões locais no grafo. Além disso, apesar de ser quase imperceptível no gráfico, na Tabela 2 podemos notar que independente do valor de K, o limite superior aumenta à medida que a probabilidade também aumenta. Isso pode ser explicado porque, com o aumento da aleatoriedade, aumenta a conectividade global e a densidade de adjacências entre nós, o que torna necessário um maior número de cores para lidar com essas novas conexões."
   ]
  },
  {
   "cell_type": "code",
   "execution_count": null,
   "metadata": {},
   "outputs": [],
   "source": [
    "stddev_of_sup_lim_er = sup_lim_er.groupby('Key')['Value'].std()\n",
    "stddev_of_sup_lim_ws01 = sup_lim_ws01.groupby('Key')['Value'].std()\n",
    "stddev_of_sup_lim_ws02 = sup_lim_ws02.groupby('Key')['Value'].std()\n",
    "stddev_of_sup_lim_ws03 = sup_lim_ws03.groupby('Key')['Value'].std()\n",
    "\n",
    "plot(stddev_of_sup_lim_er, stddev_of_sup_lim_ws01, stddev_of_sup_lim_ws02, stddev_of_sup_lim_ws03, 'Desvio padrão dos limites superiores cromáticos')"
   ]
  },
  {
   "cell_type": "markdown",
   "metadata": {},
   "source": [
    "Já no Gráfico 4, nota-se que, enquanto o modelo de Watts-Strogatz mantém o desvio padrão baixo para os limites superiores (assim como ocorreu com os limites inferiores), o modelo de Erdos-Renyi apresenta um crescimento exponencial do desvio padrão, muito maior do que os valores apresentados para o desvio padrão dos limites inferiores. Isso ocorre pois o limite superior do número cromático em um grafo depende do grau máximo, que tende a variar em grafos de Erdos-Renyi devido à aleatoriedade do modelo, de modo que, quanto maior a probabilidade, maior a variação."
   ]
  }
 ],
 "metadata": {
  "kernelspec": {
   "display_name": "Python 3",
   "language": "python",
   "name": "python3"
  },
  "language_info": {
   "codemirror_mode": {
    "name": "ipython",
    "version": 3
   },
   "file_extension": ".py",
   "mimetype": "text/x-python",
   "name": "python",
   "nbconvert_exporter": "python",
   "pygments_lexer": "ipython3",
   "version": "3.12.6"
  }
 },
 "nbformat": 4,
 "nbformat_minor": 2
}
